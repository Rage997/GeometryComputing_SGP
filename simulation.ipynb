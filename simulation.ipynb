{
 "cells": [
  {
   "cell_type": "code",
   "execution_count": 1,
   "id": "475a5956",
   "metadata": {},
   "outputs": [],
   "source": [
    "import igl\n",
    "import meshplot as mp\n",
    "import numpy as np"
   ]
  },
  {
   "cell_type": "markdown",
   "id": "8acbbe30",
   "metadata": {},
   "source": [
    "# Introduction and shrinking operation"
   ]
  },
  {
   "cell_type": "code",
   "execution_count": 2,
   "id": "0b812e60",
   "metadata": {},
   "outputs": [
    {
     "name": "stderr",
     "output_type": "stream",
     "text": [
      "/home/rage/anaconda3/envs/geo_computing/lib/python3.9/site-packages/jupyter_client/session.py:716: UserWarning: Message serialization failed with:\n",
      "Out of range float values are not JSON compliant\n",
      "Supporting this message is deprecated in jupyter-client 7, please make sure your message is JSON-compliant\n",
      "  content = self.pack(content)\n"
     ]
    },
    {
     "data": {
      "application/vnd.jupyter.widget-view+json": {
       "model_id": "e849e3983aed4ba2b53fbeeebb217949",
       "version_major": 2,
       "version_minor": 0
      },
      "text/plain": [
       "Renderer(camera=PerspectiveCamera(children=(DirectionalLight(color='white', intensity=0.6, position=(0.0, -0.0…"
      ]
     },
     "metadata": {},
     "output_type": "display_data"
    },
    {
     "data": {
      "text/plain": [
       "<meshplot.Viewer.Viewer at 0x7f462c733e50>"
      ]
     },
     "execution_count": 2,
     "metadata": {},
     "output_type": "execute_result"
    }
   ],
   "source": [
    "v, t, f = igl.read_mesh('data/hand.mesh')\n",
    "mp.plot(v, f)"
   ]
  },
  {
   "cell_type": "code",
   "execution_count": 9,
   "id": "137b8307",
   "metadata": {},
   "outputs": [
    {
     "data": {
      "application/vnd.jupyter.widget-view+json": {
       "model_id": "a71c1e34c39048d2a6d9b5be4e41248d",
       "version_major": 2,
       "version_minor": 0
      },
      "text/plain": [
       "Renderer(camera=PerspectiveCamera(children=(DirectionalLight(color='white', intensity=0.6, position=(0.0, -0.0…"
      ]
     },
     "metadata": {},
     "output_type": "display_data"
    },
    {
     "data": {
      "text/plain": [
       "<meshplot.Viewer.Viewer at 0x7f60c0497820>"
      ]
     },
     "execution_count": 9,
     "metadata": {},
     "output_type": "execute_result"
    }
   ],
   "source": [
    "# you can reshape the points and faces like this and you get the same mesh\n",
    "v[t].reshape(-1, 3), np.arange(len(t)*4).reshape(-1, 4)"
   ]
  },
  {
   "cell_type": "code",
   "execution_count": 12,
   "id": "bd0b27b0",
   "metadata": {},
   "outputs": [
    {
     "data": {
      "application/vnd.jupyter.widget-view+json": {
       "model_id": "2570a65d08574437ad1a0940a81ec686",
       "version_major": 2,
       "version_minor": 0
      },
      "text/plain": [
       "Renderer(camera=PerspectiveCamera(children=(DirectionalLight(color='white', intensity=0.6, position=(-0.000123…"
      ]
     },
     "metadata": {},
     "output_type": "display_data"
    },
    {
     "data": {
      "text/plain": [
       "<meshplot.Viewer.Viewer at 0x7f60111f2a00>"
      ]
     },
     "execution_count": 12,
     "metadata": {},
     "output_type": "execute_result"
    }
   ],
   "source": [
    "def shrink(v, t):\n",
    "    alpha = 0.5\n",
    "    bc = igl.barycenter(v, t) # v[t].mean(axis=1)\n",
    "    bc = bc.reshape(-1, 1, 3)\n",
    "    return (v[t] - bc) * 0.5 + bc\n",
    "\n",
    "mp.plot(shrink(v, t).reshape(-1, 3), np.arange(len(t)*4).reshape(-1, 4)) # this is the same plot of below!"
   ]
  },
  {
   "cell_type": "markdown",
   "id": "bc862fd2",
   "metadata": {},
   "source": [
    "# Boundary condtions"
   ]
  },
  {
   "cell_type": "code",
   "execution_count": 22,
   "id": "cfdd8688",
   "metadata": {},
   "outputs": [],
   "source": [
    "import ipywidgets as iw\n",
    "\n",
    "# We now use meshzoo to generate a simple sphere we will use to build boundary conditions\n",
    "import meshzoo\n",
    "v_s, f_s = meshzoo.octa_sphere(5)\n",
    "\n",
    "# Another thing you generally want to in this kind of applications is to \"normalise\" the position\n",
    "# of your mesh\n",
    "v -= v.min(axis=0)\n",
    "v /= v.max()"
   ]
  },
  {
   "cell_type": "code",
   "execution_count": 23,
   "id": "5e7b3640",
   "metadata": {},
   "outputs": [
    {
     "data": {
      "application/vnd.jupyter.widget-view+json": {
       "model_id": "59314f66f7b8425282766a42c1d5225f",
       "version_major": 2,
       "version_minor": 0
      },
      "text/plain": [
       "Renderer(camera=PerspectiveCamera(children=(DirectionalLight(color='white', intensity=0.6, position=(0.3685695…"
      ]
     },
     "metadata": {},
     "output_type": "display_data"
    },
    {
     "data": {
      "application/vnd.jupyter.widget-view+json": {
       "model_id": "72cc8064142f4328bdb120a0042f6f66",
       "version_major": 2,
       "version_minor": 0
      },
      "text/plain": [
       "Button(description='Record sphere position', style=ButtonStyle())"
      ]
     },
     "metadata": {},
     "output_type": "display_data"
    },
    {
     "data": {
      "application/vnd.jupyter.widget-view+json": {
       "model_id": "cc9a62f583044e0489585490cf0c4927",
       "version_major": 2,
       "version_minor": 0
      },
      "text/plain": [
       "interactive(children=(FloatSlider(value=0.1, description='rad', max=1.0, min=0.01), FloatSlider(value=0.1, des…"
      ]
     },
     "metadata": {},
     "output_type": "display_data"
    },
    {
     "data": {
      "text/plain": [
       "<function __main__.sphere(rad, x, y, z)>"
      ]
     },
     "execution_count": 23,
     "metadata": {},
     "output_type": "execute_result"
    }
   ],
   "source": [
    "paint_ui = mp.plot(v, f)\n",
    "paint_ui.add_mesh(0.1*v_s, f_s, c=np.array([0, 1, 0]),\n",
    "                  shading=dict(flat=False))\n",
    "\n",
    "# move the sphere where you like, press record and bang you have your boundary condition\n",
    "recording = []\n",
    "button = iw.Button(description='Record sphere position')\n",
    "\n",
    "def button_click(b):\n",
    "    recording.append(sphere.coord)\n",
    "button.on_click(button_click)\n",
    "display(button)\n",
    "    \n",
    "def sphere(rad, x, y, z):\n",
    "    paint_ui.update_object(oid=1, vertices=v_s*rad + np.array([x, y, z]))\n",
    "    sphere.coord = [rad, x, y, z]\n",
    "\n",
    "# to move the sphere with sliders\n",
    "mp.interact(sphere,\n",
    "        rad = iw.FloatSlider(min=0.01, max=1, value=0.1),\n",
    "        x = iw.FloatSlider(min=0.01, max=1, value=0.1),\n",
    "        y = iw.FloatSlider(min=0.01, max=1, value=0.1),\n",
    "        z = iw.FloatSlider(min=0.01, max=1, value=0.1)\n",
    "           )\n"
   ]
  },
  {
   "cell_type": "code",
   "execution_count": 24,
   "id": "bcf04105",
   "metadata": {
    "scrolled": true
   },
   "outputs": [
    {
     "data": {
      "text/plain": [
       "[[0.21, 0.41, 0.1, 0.1], [0.11, 0.31, 0.91, 0.21]]"
      ]
     },
     "execution_count": 24,
     "metadata": {},
     "output_type": "execute_result"
    }
   ],
   "source": [
    "recording"
   ]
  },
  {
   "cell_type": "code",
   "execution_count": 36,
   "id": "064b9587",
   "metadata": {},
   "outputs": [],
   "source": [
    "import polyfempy as pf"
   ]
  },
  {
   "cell_type": "code",
   "execution_count": 37,
   "id": "a83f102d",
   "metadata": {},
   "outputs": [
    {
     "name": "stdout",
     "output_type": "stream",
     "text": [
      "[2021-10-15 09:07:49.167] [polyfem] [info] Loading mesh...\n",
      "[2021-10-15 09:07:49.167] [polyfem] [info] mesh bb min [0, 0, 0], max [0.737139, 1, 0.36557]\n",
      "[2021-10-15 09:07:49.168] [polyfem] [info]  took 0.00096s\n"
     ]
    }
   ],
   "source": [
    "solver = pf.Solver()\n",
    "solver.set_mesh(v, t)"
   ]
  },
  {
   "cell_type": "code",
   "execution_count": 40,
   "id": "5b46deaf",
   "metadata": {},
   "outputs": [],
   "source": [
    "# Set the boundary condition\n",
    "def sideset(p):\n",
    "    for i, (rad, x, y, z) in enumerate(recording, 2):\n",
    "        if np.linalg.norm(p - [x, y, z]) < rad: # check if the point is inside the sphere\n",
    "            return i # index of boundary condition\n",
    "    return 1 # index of mesh inside boundary condition\n",
    "\n",
    "solver.set_boundary_side_set_from_bary(sideset)"
   ]
  },
  {
   "cell_type": "code",
   "execution_count": 42,
   "id": "8e28b83d",
   "metadata": {},
   "outputs": [
    {
     "data": {
      "application/vnd.jupyter.widget-view+json": {
       "model_id": "7251340cc0264e0f88d3e7e7ccc4cebd",
       "version_major": 2,
       "version_minor": 0
      },
      "text/plain": [
       "Renderer(camera=PerspectiveCamera(children=(DirectionalLight(color='white', intensity=0.6, position=(0.3685695…"
      ]
     },
     "metadata": {},
     "output_type": "display_data"
    },
    {
     "data": {
      "text/plain": [
       "<meshplot.Viewer.Viewer at 0x7f4573131f40>"
      ]
     },
     "execution_count": 42,
     "metadata": {},
     "output_type": "execute_result"
    }
   ],
   "source": [
    "# Plot boundary conditons\n",
    "vi, fi, ci = solver.get_boundary_sidesets()\n",
    "mp.plot(vi, fi, c=ci)"
   ]
  },
  {
   "cell_type": "code",
   "execution_count": 44,
   "id": "f89557ed",
   "metadata": {},
   "outputs": [],
   "source": [
    "# Initialise the problem / set up settings\n",
    "problem = pf.Problem()\n",
    "problem.set_displacement(2, [0, 0, 0])\n",
    "problem.set_force(3, [1, 0, 0])\n",
    "\n",
    "settings = pf.Settings() # default settings\n",
    "settings.set_pde(pf.PDEs.LinearElasticity)\n",
    "settings.set_material_params('E', 2e3) # young's modulus\n",
    "settings.set_material_params('nu', 0.4) # Poisson ration\n",
    "settings.set_problem(problem)"
   ]
  },
  {
   "cell_type": "code",
   "execution_count": 46,
   "id": "dea71ac5",
   "metadata": {},
   "outputs": [
    {
     "name": "stdout",
     "output_type": "stream",
     "text": [
      "[2021-10-15 09:12:01.120] [polyfem] [info] simplex_count: \t29998\n",
      "[2021-10-15 09:12:01.120] [polyfem] [info] regular_count: \t0\n",
      "[2021-10-15 09:12:01.120] [polyfem] [info] regular_boundary_count: \t0\n",
      "[2021-10-15 09:12:01.120] [polyfem] [info] simple_singular_count: \t0\n",
      "[2021-10-15 09:12:01.120] [polyfem] [info] multi_singular_count: \t0\n",
      "[2021-10-15 09:12:01.120] [polyfem] [info] boundary_count: \t0\n",
      "[2021-10-15 09:12:01.120] [polyfem] [info] multi_singular_boundary_count: \t0\n",
      "[2021-10-15 09:12:01.120] [polyfem] [info] non_regular_count: \t0\n",
      "[2021-10-15 09:12:01.120] [polyfem] [info] non_regular_boundary_count: \t0\n",
      "[2021-10-15 09:12:01.120] [polyfem] [info] undefined_count: \t0\n",
      "[2021-10-15 09:12:01.120] [polyfem] [info] total count:\t 29998\n",
      "[2021-10-15 09:12:01.120] [polyfem] [info] Building isoparametric basis...\n",
      "[2021-10-15 09:12:01.184] [polyfem] [info] Computing polygonal basis...\n",
      "[2021-10-15 09:12:01.184] [polyfem] [info]  took 1.4e-05s\n",
      "[2021-10-15 09:12:01.189] [polyfem] [info] hmin: 0.00105794\n",
      "[2021-10-15 09:12:01.189] [polyfem] [info] hmax: 0.0880681\n",
      "[2021-10-15 09:12:01.189] [polyfem] [info] havg: 0.0219724\n",
      "[2021-10-15 09:12:01.189] [polyfem] [info]  took 0.064653s\n",
      "[2021-10-15 09:12:01.189] [polyfem] [info] flipped elements 0\n",
      "[2021-10-15 09:12:01.189] [polyfem] [info] h: 0.0880681\n",
      "[2021-10-15 09:12:01.189] [polyfem] [info] n bases: 7234\n",
      "[2021-10-15 09:12:01.189] [polyfem] [info] n pressure bases: 0\n",
      "[2021-10-15 09:12:01.189] [polyfem] [info] Assigning rhs...\n",
      "[2021-10-15 09:12:01.197] [polyfem] [info]  took 0.0082s\n",
      "[2021-10-15 09:12:01.197] [polyfem] [info] Assembling stiffness mat...\n",
      "[2021-10-15 09:12:01.365] [polyfem] [info]  took 0.168269s\n",
      "[2021-10-15 09:12:01.365] [polyfem] [info] sparsity: 821268/470976804\n",
      "[2021-10-15 09:12:01.365] [polyfem] [info] Solving LinearElasticity with\n",
      "[2021-10-15 09:12:01.365] [polyfem] [info] Hypre...\n"
     ]
    }
   ],
   "source": [
    "solver.settings(settings) # feed the settings\n",
    "solver.solve()"
   ]
  },
  {
   "cell_type": "code",
   "execution_count": 47,
   "id": "5efbdf62",
   "metadata": {},
   "outputs": [],
   "source": [
    "# the solution samples some points in the element space hence we will get some disconnected triangles\n",
    "sol_pts, sol_tri, disp = solver.get_sampled_solution()"
   ]
  },
  {
   "cell_type": "code",
   "execution_count": 49,
   "id": "d0a223bf",
   "metadata": {},
   "outputs": [
    {
     "data": {
      "application/vnd.jupyter.widget-view+json": {
       "model_id": "2685149092044f58bd6342dcb2f0681f",
       "version_major": 2,
       "version_minor": 0
      },
      "text/plain": [
       "Renderer(camera=PerspectiveCamera(children=(DirectionalLight(color='white', intensity=0.6, position=(0.3698654…"
      ]
     },
     "metadata": {},
     "output_type": "display_data"
    },
    {
     "data": {
      "text/plain": [
       "<meshplot.Viewer.Viewer at 0x7f45708ca100>"
      ]
     },
     "execution_count": 49,
     "metadata": {},
     "output_type": "execute_result"
    }
   ],
   "source": [
    "mp.plot(sol_pts+disp, sol_tri)"
   ]
  },
  {
   "cell_type": "code",
   "execution_count": 55,
   "id": "9b6a2803",
   "metadata": {},
   "outputs": [
    {
     "data": {
      "application/vnd.jupyter.widget-view+json": {
       "model_id": "0aea3751f91f4daa9f7a25b6c06e560f",
       "version_major": 2,
       "version_minor": 0
      },
      "text/plain": [
       "Renderer(camera=PerspectiveCamera(children=(DirectionalLight(color='white', intensity=0.6, position=(0.3698654…"
      ]
     },
     "metadata": {},
     "output_type": "display_data"
    },
    {
     "data": {
      "text/plain": [
       "<meshplot.Viewer.Viewer at 0x7f45708ba700>"
      ]
     },
     "execution_count": 55,
     "metadata": {},
     "output_type": "execute_result"
    }
   ],
   "source": [
    "# sometimes it's hard to see the result of a simulation. We can help ourself by using colors\n",
    "\n",
    "# We get the von mises stresses \n",
    "vonmises, _ = solver.get_sampled_mises_avg()\n",
    "\n",
    "_, unid, univ = np.unique((sol_pts*1e8).astype(int), axis=0,\n",
    "                         return_index=True, return_inverse=True)\n",
    "\n",
    "# we can now display the stress\n",
    "mp.plot(sol_pts[unid] + disp[unid], univ[sol_tri], c = vonmises[unid])"
   ]
  },
  {
   "cell_type": "code",
   "execution_count": 51,
   "id": "9bf9b525",
   "metadata": {},
   "outputs": [],
   "source": [
    "? solver.get_sampled_mises_avg\n"
   ]
  }
 ],
 "metadata": {
  "kernelspec": {
   "display_name": "Python 3 (ipykernel)",
   "language": "python",
   "name": "python3"
  },
  "language_info": {
   "codemirror_mode": {
    "name": "ipython",
    "version": 3
   },
   "file_extension": ".py",
   "mimetype": "text/x-python",
   "name": "python",
   "nbconvert_exporter": "python",
   "pygments_lexer": "ipython3",
   "version": "3.9.7"
  }
 },
 "nbformat": 4,
 "nbformat_minor": 5
}
